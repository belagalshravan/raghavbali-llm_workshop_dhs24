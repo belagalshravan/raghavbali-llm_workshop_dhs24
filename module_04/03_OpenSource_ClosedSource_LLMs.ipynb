{
 "cells": [
  {
   "cell_type": "markdown",
   "id": "1ae9124c-7015-488d-9791-92b9731386a9",
   "metadata": {},
   "source": [
    "# Open Source Vs Close Sourced LLMs\n",
    "\n",
    "Similar to any other piece of technology, LLMs are available in all flavours and license types. While some of the most popular offerings are closed source (OpenAI and Claud), OpenSource also has a number of options (LLaMA, Mistral and more!). \n",
    "\n",
    "# But **What does OpenSource or Closed Source mean for Language Models?**\n",
    "> Or you might ask, don't we all know about the transformer architecture and what powers these LLMs?\n",
    "\n",
    "The answer to such question lies in the secret sauce to setup and train such models. Similar to any other ML/AI/DL model, we have to go through the following steps for LLMs as well:\n",
    "\n",
    "- 📚 Collect Loads of Data (virtually whole of internet and **more!!!**)\n",
    "- 🧹 Clean-up the Dataset\n",
    "- 🤖 A very Large **Transformer**-like architecture\n",
    "- 💸 A **very Large GPU cluster** to train the model (probably **multiple** times) \n",
    "- 🧑‍💻 A whole suite of Human Evaluators (and labellers)\n",
    "- 💹 A proper benchmarking and evaluation setup\n",
    "\n",
    "Those are not just 6 steps, those are very hard 6 steps!\n",
    "\n",
    "## Ok but still, Closed vs Open?\n",
    "\n",
    "- The secret sauce is to bring in optimizations at each and every step of this process (yes, all 6 are active areas of research!)\n",
    "- Open Sourced Models could be released with a focus the code, weights, datasets or evaluation details or even all of them. This presents a nice distinction where some models are open-weight models while others are completely open-sourced.\n",
    "    - Open Weights: Mistral Nemo, Google/Gemma\n",
    "    - Fully Open Sourced: LLaMA x, Alpaca, Stanford Alpaca (based on LLaMA)\n",
    "- Closed Source or Closed Weight models currently have superior performance and make use of proprietary improvements and datasets to achieve the same. "
   ]
  },
  {
   "cell_type": "markdown",
   "id": "410adc18-b5c4-450e-8c7e-04a949ae4bc5",
   "metadata": {},
   "source": [
    "## Are Open Source Models Any Good?\n",
    "The closed weights/closed source models still lead the pack but the open source community is catching up. Catching up fast and square onto performance on all front. Let us explore one such easy to use setup, the **🦙 🦙LLaMA 🦙 🦙**\n",
    "### Let's Setup Our Own Lamma 🦙"
   ]
  },
  {
   "cell_type": "code",
   "execution_count": 23,
   "id": "6e204afc-020b-4f4a-9dba-810174da6d98",
   "metadata": {},
   "outputs": [
    {
     "data": {
      "text/html": [
       "\n",
       "    <h2>Download the Latest From <a src=\"https://ollama.com/\">ollama.com</a></h2>\n",
       "    <div class=\"row\">\n",
       "            <img src=./assets/llama_setup_1.png style=\"width:40%\"> </img>\n",
       "            <img src=./assets/llama_setup_2.png style=\"width:40%\"> </img>\n",
       "    </div>\n",
       "    </br>\n",
       "    <h2>Pull the Latest LLaMA</h2>\n",
       "    <div class=\"row\">\n",
       "            <img src=./assets/llama_setup_3.png> </img>\n",
       "            <h2>Off We Go!</h2>\n",
       "            <img src=./assets/llama_setup_4.png> </img>\n",
       "    </div>\n",
       "    "
      ],
      "text/plain": [
       "<IPython.core.display.HTML object>"
      ]
     },
     "execution_count": 23,
     "metadata": {},
     "output_type": "execute_result"
    }
   ],
   "source": [
    "from IPython.display import Image, HTML, display\n",
    "\n",
    "image_path1 = \"./assets/llama_setup_1.png\"\n",
    "image_path2 = \"./assets/llama_setup_2.png\"\n",
    "image_path3 = \"./assets/llama_setup_3.png\"\n",
    "image_path4 = \"./assets/llama_setup_4.png\"\n",
    "\n",
    "\n",
    "HTML(f\"\"\"\n",
    "    <h2>Download the Latest From <a src=\"https://ollama.com/\">ollama.com</a></h2>\n",
    "    <div class=\"row\">\n",
    "            <img src={image_path1} style=\"width:40%\"> </img>\n",
    "            <img src={image_path2} style=\"width:40%\"> </img>\n",
    "    </div>\n",
    "    </br>\n",
    "    <h2>Pull the Latest LLaMA</h2>\n",
    "    <div class=\"row\">\n",
    "            <img src={image_path3}> </img>\n",
    "            <h2>Off We Go!</h2>\n",
    "            <img src={image_path4}> </img>\n",
    "    </div>\n",
    "    \"\"\")"
   ]
  },
  {
   "cell_type": "markdown",
   "id": "fbd9c507-d508-4186-82b8-fe2840336630",
   "metadata": {},
   "source": [
    "## 🖥️ Look Ma, Python Bindings!\n",
    "\n",
    "- Ensure your setup steps were completed successfully, else:\n",
    "- Install Ollama server using ``curl -fsSL https://ollama.com/install.sh | sh``\n",
    "- Change download directory : ``export OLLAMA_MODELS=/workspace``\n",
    "- Pull a specific model : ``ollama pull llama3.1:8b``\n",
    "- Start the server (assuming it is in the same environment/shell, else run export command again)\n",
    "    - ``ollama serve``\n",
    "    - ``ollama run llama3.1:8b``"
   ]
  },
  {
   "cell_type": "code",
   "execution_count": 29,
   "id": "52d27d56-831b-4296-8652-4ecedd1a3417",
   "metadata": {},
   "outputs": [],
   "source": [
    "import ollama\n",
    "import json"
   ]
  },
  {
   "cell_type": "code",
   "execution_count": 33,
   "id": "438d996e-0f0d-4a6f-b4a7-944ccea844cf",
   "metadata": {},
   "outputs": [],
   "source": [
    "# Go to your terminal and make sure the following is running: ollama run llama3.1:8b\n",
    "response = ollama.chat(model='llama3.1:8b', messages=[\n",
    "    {\n",
    "        'role': 'user',\n",
    "        'content': \"What is a Llama?\",\n",
    "    },\n",
    "])"
   ]
  },
  {
   "cell_type": "code",
   "execution_count": 34,
   "id": "424062f1-b4da-4278-9343-aaeb32cfaf12",
   "metadata": {},
   "outputs": [
    {
     "name": "stdout",
     "output_type": "stream",
     "text": [
      "{\n",
      "    \"model\": \"llama3.1\",\n",
      "    \"created_at\": \"2024-08-03T19:09:26.075267Z\",\n",
      "    \"message\": {\n",
      "        \"role\": \"assistant\",\n",
      "        \"content\": \"A llama (Lama glama) is a South American camelid, a mammal closely related to camels and alpacas. They are native to the Andean region of present-day Peru, Bolivia, Ecuador, and Chile.\\n\\nHere are some key characteristics of llamas:\\n\\n1. **Physical appearance**: Llamas have a distinctive appearance with a soft, woolly coat (which can be brown, black, white, or various shades in between), a long neck, and relatively small ears compared to their body size. Adult llamas typically grow to 5-6 feet (1.5-1.8 meters) tall at the shoulder.\\n2. **Habitat**: Llamas are adapted to high-altitude grasslands, rocky plateaus, and scrub forests in South America.\\n3. **Diet**: They are herbivores and feed on plants, such as grasses, leaves, and shrubs. Their digestive system is efficient at breaking down cellulose, which allows them to extract nutrients from plant material that would be difficult for other animals to digest.\\n4. **Social behavior**: Llamas are social creatures that live in herds. They have a hierarchical structure within these groups, with dominant individuals leading the way and younger or subordinate members following.\\n5. **Usefulness**: For centuries, llamas have been used by indigenous communities as pack animals (carrying goods over long distances), while their wool has been valued for its warmth and durability.\\n\\nIn recent years, llamas have also become popular in other parts of the world as pets, companions, or even therapy animals!\\n\\nHow's that? Do you have any specific questions about llamas I can help with?\"\n",
      "    },\n",
      "    \"done_reason\": \"stop\",\n",
      "    \"done\": true,\n",
      "    \"total_duration\": 13250142666,\n",
      "    \"load_duration\": 28561250,\n",
      "    \"prompt_eval_count\": 16,\n",
      "    \"prompt_eval_duration\": 230031000,\n",
      "    \"eval_count\": 345,\n",
      "    \"eval_duration\": 12990640000\n",
      "}\n"
     ]
    }
   ],
   "source": [
    "print(json.dumps(response, indent = 4))"
   ]
  },
  {
   "cell_type": "code",
   "execution_count": null,
   "id": "20ee4a3f-e702-4470-b7ab-6496448f91dc",
   "metadata": {},
   "outputs": [],
   "source": []
  }
 ],
 "metadata": {
  "kernelspec": {
   "display_name": "Python 3 (ipykernel)",
   "language": "python",
   "name": "python3"
  },
  "language_info": {
   "codemirror_mode": {
    "name": "ipython",
    "version": 3
   },
   "file_extension": ".py",
   "mimetype": "text/x-python",
   "name": "python",
   "nbconvert_exporter": "python",
   "pygments_lexer": "ipython3",
   "version": "3.11.9"
  }
 },
 "nbformat": 4,
 "nbformat_minor": 5
}
